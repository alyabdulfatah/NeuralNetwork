{
  "nbformat": 4,
  "nbformat_minor": 0,
  "metadata": {
    "colab": {
      "name": "Simple_neural_network_backprop.ipynb",
      "provenance": [],
      "authorship_tag": "ABX9TyO0oTZlIMz/Mks8jEgi+NuR",
      "include_colab_link": true
    },
    "kernelspec": {
      "name": "python3",
      "display_name": "Python 3"
    }
  },
  "cells": [
    {
      "cell_type": "markdown",
      "metadata": {
        "id": "view-in-github",
        "colab_type": "text"
      },
      "source": [
        "<a href=\"https://colab.research.google.com/github/alyabdulfatah/NeuralNetwork/blob/master/Simple_neural_network_backprop.ipynb\" target=\"_parent\"><img src=\"https://colab.research.google.com/assets/colab-badge.svg\" alt=\"Open In Colab\"/></a>"
      ]
    },
    {
      "cell_type": "code",
      "metadata": {
        "id": "SDbnkV4B1zhX",
        "colab_type": "code",
        "colab": {}
      },
      "source": [
        "import numpy as np"
      ],
      "execution_count": 0,
      "outputs": []
    },
    {
      "cell_type": "code",
      "metadata": {
        "id": "ObM0YZgE97Wo",
        "colab_type": "code",
        "colab": {}
      },
      "source": [
        "neuron = 4"
      ],
      "execution_count": 0,
      "outputs": []
    },
    {
      "cell_type": "code",
      "metadata": {
        "id": "tMm2iQOV5FGB",
        "colab_type": "code",
        "colab": {}
      },
      "source": [
        "def sigmoid (x):\n",
        "  return 1.0/(1+np.exp(-x))"
      ],
      "execution_count": 0,
      "outputs": []
    },
    {
      "cell_type": "code",
      "metadata": {
        "id": "wNLUUVF-5aC4",
        "colab_type": "code",
        "colab": {}
      },
      "source": [
        "def sigmoid_derivative (x):\n",
        "  return x*(1.0 - x)"
      ],
      "execution_count": 0,
      "outputs": []
    },
    {
      "cell_type": "code",
      "metadata": {
        "id": "M9mLC3VE5qPH",
        "colab_type": "code",
        "colab": {}
      },
      "source": [
        "class NeuralNetwork:\n",
        "  def __init__(self, x, y):\n",
        "    self.input      = x\n",
        "    #print('input \\n',self.input) #for showing\n",
        "    #print( )\n",
        "    self.weights1   = np.random.rand(self.input.shape[1],neuron) \n",
        "    #print('weights1 \\n',self.weights1) #for showing\n",
        "    #print( )\n",
        "    self.weights2   = np.random.rand(neuron,1)\n",
        "    #print('weights2 \\n',self.weights2) #for showing\n",
        "    #print( )                 \n",
        "    self.y          = y\n",
        "    #print('y \\n',self.y)\n",
        "    #print( )\n",
        "    self.output     = np.zeros(self.y.shape) # y hat\n",
        "    #print('output \\n',self.output) #for showing\n",
        "    #print( )\n",
        "  def feedforward(self):\n",
        "        self.layer1 = sigmoid(np.dot(self.input, self.weights1))\n",
        "        #print('layer \\n',self.layer1) #for showing\n",
        "        #print( )\n",
        "        self.output = sigmoid(np.dot(self.layer1, self.weights2))\n",
        "        #print('output \\n',self.output) #for showing\n",
        "        #print( )\n",
        "\n",
        "  def backprop(self):\n",
        "        # application of the chain rule to find derivative of the loss function with respect to weights2 and weights1\n",
        "        d_weights2 = np.dot(self.layer1.T, (2*(self.y - self.output) * sigmoid_derivative(self.output)))\n",
        "        #print('d_weights2 \\n',d_weights2) #for showing\n",
        "        #print( )\n",
        "        d_weights1 = np.dot(self.input.T,  (np.dot(2*(self.y - self.output) * sigmoid_derivative(self.output), self.weights2.T) * sigmoid_derivative(self.layer1)))\n",
        "        #print('d_weights1 \\n',d_weights1) #for showing\n",
        "        #print( )\n",
        "\n",
        "        # update the weights with the derivative (slope) of the loss function\n",
        "        self.weights1 += d_weights1\n",
        "        self.weights2 += d_weights2    \n",
        "  "
      ],
      "execution_count": 0,
      "outputs": []
    },
    {
      "cell_type": "code",
      "metadata": {
        "id": "L5ryX8JT38Rp",
        "colab_type": "code",
        "outputId": "f0d217a1-c90c-4b7c-8961-de266e0ebeff",
        "colab": {
          "base_uri": "https://localhost:8080/",
          "height": 85
        }
      },
      "source": [
        "x = np.array([[0,0,1],\n",
        "              [0,1,1],\n",
        "              [1,0,1],\n",
        "              [1,1,1]])\n",
        "print(x)"
      ],
      "execution_count": 74,
      "outputs": [
        {
          "output_type": "stream",
          "text": [
            "[[0 0 1]\n",
            " [0 1 1]\n",
            " [1 0 1]\n",
            " [1 1 1]]\n"
          ],
          "name": "stdout"
        }
      ]
    },
    {
      "cell_type": "code",
      "metadata": {
        "id": "zsMm4HPP4Y0D",
        "colab_type": "code",
        "outputId": "ae8e3813-bfe8-4b84-80f0-db3b99e8f977",
        "colab": {
          "base_uri": "https://localhost:8080/",
          "height": 85
        }
      },
      "source": [
        "y = np.array([[0],\n",
        "              [1],\n",
        "              [1],\n",
        "              [0]])\n",
        "print(y)"
      ],
      "execution_count": 75,
      "outputs": [
        {
          "output_type": "stream",
          "text": [
            "[[0]\n",
            " [1]\n",
            " [1]\n",
            " [0]]\n"
          ],
          "name": "stdout"
        }
      ]
    },
    {
      "cell_type": "code",
      "metadata": {
        "id": "DWAZnHnw4mZb",
        "colab_type": "code",
        "outputId": "a3c88250-b004-43c8-d4bc-97c426424aa2",
        "colab": {
          "base_uri": "https://localhost:8080/",
          "height": 85
        }
      },
      "source": [
        "nn = NeuralNetwork(x,y)\n",
        "'''\n",
        "You must change the numbers from which you will benefit from this structure\n",
        "This knowledge of trial and error to find the best way to work\n",
        "'''\n",
        "for i in range(10):\n",
        "  nn.feedforward()\n",
        "  nn.backprop()\n",
        "  #print(\"_____________________\")\n",
        "print (nn.output)  "
      ],
      "execution_count": 77,
      "outputs": [
        {
          "output_type": "stream",
          "text": [
            "[[0.5000235 ]\n",
            " [0.507778  ]\n",
            " [0.49425246]\n",
            " [0.50209311]]\n"
          ],
          "name": "stdout"
        }
      ]
    },
    {
      "cell_type": "code",
      "metadata": {
        "id": "rQ1wTl0C-u5U",
        "colab_type": "code",
        "colab": {}
      },
      "source": [
        ""
      ],
      "execution_count": 0,
      "outputs": []
    }
  ]
}