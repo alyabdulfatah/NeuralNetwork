{
  "nbformat": 4,
  "nbformat_minor": 0,
  "metadata": {
    "colab": {
      "name": "Simple_neural_network_backprop.ipynb",
      "provenance": []
    },
    "kernelspec": {
      "name": "python3",
      "display_name": "Python 3"
    }
  },
  "cells": [
    {
      "cell_type": "code",
      "metadata": {
        "id": "SDbnkV4B1zhX",
        "colab_type": "code",
        "colab": {}
      },
      "source": [
        "import numpy as np"
      ],
      "execution_count": 0,
      "outputs": []
    },
    {
      "cell_type": "code",
      "metadata": {
        "id": "ObM0YZgE97Wo",
        "colab_type": "code",
        "colab": {}
      },
      "source": [
        "neuron = 4"
      ],
      "execution_count": 0,
      "outputs": []
    },
    {
      "cell_type": "code",
      "metadata": {
        "id": "tMm2iQOV5FGB",
        "colab_type": "code",
        "colab": {}
      },
      "source": [
        "def sigmoid (x):\n",
        "  return 1.0/(1+np.exp(-x))"
      ],
      "execution_count": 0,
      "outputs": []
    },
    {
      "cell_type": "code",
      "metadata": {
        "id": "wNLUUVF-5aC4",
        "colab_type": "code",
        "colab": {}
      },
      "source": [
        "def sigmoid_derivative (x):\n",
        "  return x*(1.0 - x)"
      ],
      "execution_count": 0,
      "outputs": []
    },
    {
      "cell_type": "code",
      "metadata": {
        "id": "M9mLC3VE5qPH",
        "colab_type": "code",
        "colab": {}
      },
      "source": [
        "class NeuralNetwork:\n",
        "  def __init__(self, x, y):\n",
        "    self.input      = x\n",
        "    print('input \\n',self.input)\n",
        "    print( )\n",
        "    self.weights1   = np.random.rand(self.input.shape[1],neuron) \n",
        "    print('weights1 \\n',self.weights1)\n",
        "    print( )\n",
        "    self.weights2   = np.random.rand(neuron,1)\n",
        "    print('weights2 \\n',self.weights2)\n",
        "    print( )                 \n",
        "    self.y          = y\n",
        "    print('y \\n',self.y)\n",
        "    print( )\n",
        "    self.output     = np.zeros(self.y.shape) # y hat\n",
        "    print('output \\n',self.output)\n",
        "    print( )\n",
        "  def feedforward(self):\n",
        "        self.layer1 = sigmoid(np.dot(self.input, self.weights1))\n",
        "        print('layer \\n',self.layer1)\n",
        "        print( )\n",
        "        self.output = sigmoid(np.dot(self.layer1, self.weights2))\n",
        "        print('output \\n',self.output)\n",
        "        print( )\n",
        "\n",
        "  def backprop(self):\n",
        "        # application of the chain rule to find derivative of the loss function with respect to weights2 and weights1\n",
        "        d_weights2 = np.dot(self.layer1.T, (2*(self.y - self.output) * sigmoid_derivative(self.output)))\n",
        "        d_weights1 = np.dot(self.input.T,  (np.dot(2*(self.y - self.output) * sigmoid_derivative(self.output), self.weights2.T) * sigmoid_derivative(self.layer1)))\n",
        "\n",
        "        # update the weights with the derivative (slope) of the loss function\n",
        "        self.weights1 += d_weights1\n",
        "        self.weights2 += d_weights2    \n",
        "  "
      ],
      "execution_count": 0,
      "outputs": []
    },
    {
      "cell_type": "code",
      "metadata": {
        "id": "L5ryX8JT38Rp",
        "colab_type": "code",
        "outputId": "648cc443-bb44-4daa-e9c1-a76fa4b03790",
        "colab": {
          "base_uri": "https://localhost:8080/",
          "height": 85
        }
      },
      "source": [
        "x = np.array([[0,0,1],\n",
        "              [0,1,1],\n",
        "              [1,0,1],\n",
        "              [1,1,1]])\n",
        "print(x)"
      ],
      "execution_count": 54,
      "outputs": [
        {
          "output_type": "stream",
          "text": [
            "[[0 0 1]\n",
            " [0 1 1]\n",
            " [1 0 1]\n",
            " [1 1 1]]\n"
          ],
          "name": "stdout"
        }
      ]
    },
    {
      "cell_type": "code",
      "metadata": {
        "id": "zsMm4HPP4Y0D",
        "colab_type": "code",
        "outputId": "b36181ba-36ce-43b3-c1e4-1793bd62e15c",
        "colab": {
          "base_uri": "https://localhost:8080/",
          "height": 85
        }
      },
      "source": [
        "y = np.array([[0],\n",
        "              [1],\n",
        "              [1],\n",
        "              [0]])\n",
        "print(y)"
      ],
      "execution_count": 55,
      "outputs": [
        {
          "output_type": "stream",
          "text": [
            "[[0]\n",
            " [1]\n",
            " [1]\n",
            " [0]]\n"
          ],
          "name": "stdout"
        }
      ]
    },
    {
      "cell_type": "code",
      "metadata": {
        "id": "DWAZnHnw4mZb",
        "colab_type": "code",
        "outputId": "fdc3183c-98fe-41a8-b268-9712dca34fd4",
        "colab": {
          "base_uri": "https://localhost:8080/",
          "height": 1000
        }
      },
      "source": [
        "nn = NeuralNetwork(x,y)\n",
        "'''\n",
        "You must change the numbers from which you will benefit from this structure\n",
        "This knowledge of trial and error to find the best way to work\n",
        "'''\n",
        "for i in range(10):\n",
        "  nn.feedforward()\n",
        "  nn.backprop()\n",
        "  print(\"_____________________\")\n",
        "print (nn.output)  "
      ],
      "execution_count": 56,
      "outputs": [
        {
          "output_type": "stream",
          "text": [
            "input \n",
            " [[0 0 1]\n",
            " [0 1 1]\n",
            " [1 0 1]\n",
            " [1 1 1]]\n",
            "\n",
            "weights1 \n",
            " [[0.15199899 0.89793268 0.77596512 0.65947088]\n",
            " [0.00397101 0.00187216 0.12263184 0.19949077]\n",
            " [0.14641913 0.15592043 0.14967074 0.58558679]]\n",
            "\n",
            "weights2 \n",
            " [[0.99348025]\n",
            " [0.63105804]\n",
            " [0.18829826]\n",
            " [0.97376424]]\n",
            "\n",
            "y \n",
            " [[0]\n",
            " [1]\n",
            " [1]\n",
            " [0]]\n",
            "\n",
            "output \n",
            " [[0.]\n",
            " [0.]\n",
            " [0.]\n",
            " [0.]]\n",
            "\n",
            "layer \n",
            " [[0.53653953 0.53890133 0.53734799 0.64235191]\n",
            " [0.53752683 0.5393665  0.5676581  0.68677341]\n",
            " [0.57405577 0.74151412 0.71618906 0.77644315]\n",
            " [0.57502645 0.74187279 0.74044211 0.80915801]]\n",
            "\n",
            "output \n",
            " [[0.83199049]\n",
            " [0.83889622]\n",
            " [0.87315877]\n",
            " [0.87726648]]\n",
            "\n",
            "_____________________\n",
            "layer \n",
            " [[0.51516396 0.52668562 0.53370725 0.62691797]\n",
            " [0.50738366 0.52316204 0.5628758  0.66801557]\n",
            " [0.54330008 0.72816768 0.7120247  0.76039216]\n",
            " [0.53556425 0.7253619  0.73556544 0.79167255]]\n",
            "\n",
            "output \n",
            " [[0.74350569]\n",
            " [0.74751488]\n",
            " [0.77906508]\n",
            " [0.78155763]]\n",
            "\n",
            "_____________________\n",
            "layer \n",
            " [[0.49627525 0.51799054 0.53436588 0.61408709]\n",
            " [0.47999442 0.51145261 0.56374895 0.65207804]\n",
            " [0.51501434 0.71806333 0.71280297 0.74621551]\n",
            " [0.49872741 0.71273417 0.73647889 0.77594499]]\n",
            "\n",
            "output \n",
            " [[0.62756667]\n",
            " [0.62720041]\n",
            " [0.64089275]\n",
            " [0.64006913]]\n",
            "\n",
            "_____________________\n",
            "layer \n",
            " [[0.48693461 0.51555659 0.53798016 0.60868061]\n",
            " [0.46615782 0.50829299 0.56827694 0.64567684]\n",
            " [0.50080687 0.71514257 0.71705988 0.74013574]\n",
            " [0.47999192 0.70918347 0.74126136 0.76941205]]\n",
            "\n",
            "output \n",
            " [[0.54558973]\n",
            " [0.54247854]\n",
            " [0.53828529]\n",
            " [0.53527427]]\n",
            "\n",
            "_____________________\n",
            "layer \n",
            " [[0.48453529 0.51547176 0.53969126 0.607627  ]\n",
            " [0.46258944 0.50821633 0.56947675 0.64497077]\n",
            " [0.49732254 0.71504358 0.71884666 0.73911461]\n",
            " [0.4753316  0.70909004 0.74256911 0.76870768]]\n",
            "\n",
            "output \n",
            " [[0.51947124]\n",
            " [0.51571922]\n",
            " [0.50547981]\n",
            " [0.50198708]]\n",
            "\n",
            "_____________________\n",
            "layer \n",
            " [[0.48394226 0.51551581 0.54006369 0.6074404 ]\n",
            " [0.46173183 0.50819341 0.56851442 0.6453601 ]\n",
            " [0.49664264 0.71508832 0.71895735 0.73909922]\n",
            " [0.47438515 0.70908004 0.741636   0.76913472]]\n",
            "\n",
            "output \n",
            " [[0.51334143]\n",
            " [0.50964038]\n",
            " [0.4978742 ]\n",
            " [0.49442738]]\n",
            "\n",
            "_____________________\n",
            "layer \n",
            " [[0.48372717 0.51554409 0.54009089 0.60741185]\n",
            " [0.46144126 0.50811189 0.56700834 0.64594373]\n",
            " [0.49654792 0.71510999 0.71864647 0.73926689]\n",
            " [0.47421389 0.70901134 0.74014159 0.76976279]]\n",
            "\n",
            "output \n",
            " [[0.51184363]\n",
            " [0.50834778]\n",
            " [0.49609725]\n",
            " [0.49281095]]\n",
            "\n",
            "_____________________\n",
            "layer \n",
            " [[0.48359517 0.51556671 0.54004687 0.6074176 ]\n",
            " [0.46127294 0.50801211 0.56540067 0.64657063]\n",
            " [0.49658073 0.71512374 0.71825682 0.73947615]\n",
            " [0.47420952 0.7089242  0.7385431  0.77043628]]\n",
            "\n",
            "output \n",
            " [[0.51138272]\n",
            " [0.50812379]\n",
            " [0.49562203]\n",
            " [0.49252005]]\n",
            "\n",
            "_____________________\n",
            "layer \n",
            " [[0.48348248 0.51558825 0.53999492 0.60743213]\n",
            " [0.46113062 0.50790668 0.56379305 0.64721024]\n",
            " [0.49664219 0.71513579 0.71786722 0.73969805]\n",
            " [0.47424053 0.70883155 0.73694596 0.77112378]]\n",
            "\n",
            "output \n",
            " [[0.51115581]\n",
            " [0.50813881]\n",
            " [0.4954384 ]\n",
            " [0.49252487]]\n",
            "\n",
            "_____________________\n",
            "layer \n",
            " [[0.48337497 0.51560987 0.53994927 0.60744983]\n",
            " [0.46099298 0.50779864 0.56220799 0.64785602]\n",
            " [0.49671039 0.71514771 0.71749524 0.73992631]\n",
            " [0.47427779 0.70873654 0.73537375 0.77181862]]\n",
            "\n",
            "output \n",
            " [[0.5109835 ]\n",
            " [0.50820773]\n",
            " [0.49532077]\n",
            " [0.4925956 ]]\n",
            "\n",
            "_____________________\n",
            "[[0.5109835 ]\n",
            " [0.50820773]\n",
            " [0.49532077]\n",
            " [0.4925956 ]]\n"
          ],
          "name": "stdout"
        }
      ]
    },
    {
      "cell_type": "code",
      "metadata": {
        "id": "rQ1wTl0C-u5U",
        "colab_type": "code",
        "colab": {}
      },
      "source": [
        ""
      ],
      "execution_count": 0,
      "outputs": []
    }
  ]
}